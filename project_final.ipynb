{
 "cells": [
  {
   "cell_type": "markdown",
   "metadata": {},
   "source": [
    "# Predicting the NBA Draft\n",
    "\n",
    "Welcome to our tutorial! In this project, the goal is to look at what factors are the most important for NBA draft picks. First, a little bit about the NBA. The National Basketball Association, or NBA, is the highest level professional basketball league in the world. It is composed of 30 teams that play 82 games each, before a playoff bracket is set. The most common way for players to enter the league (After 2006, read more about the rule change [here](https://en.wikipedia.org/wiki/Eligibility_for_the_NBA_draft)) is to be drafted in the NBA draft. The draft consists of 2 rounds, with each team getting 1 pick per round, for a total of 60 picks. \n",
    "\n",
    "The end goal of this project is to try and predict the [2021 NBA draft](https://en.wikipedia.org/wiki/2021_NBA_draft) that will take place on July 29th. Finding out the position of draft picks would be useful for those in the sports industry. A team would be able to predict what players other teams will select, see if players are over/under-rated, or possibly help set sports betting odds. However to start predicting the draft, we must look at past drafts to see what are the most important factors for an NBA draft pick. The project will be broken up into 3 sections:\n",
    "\n",
    "1. Data Wrangling\n",
    "2. Analysis of Previous Drafts\n",
    "3. Predictions of 2021 Draft\n",
    "\n",
    "Over the course of this guide, we hope the reader is able to understand how and why data analysis is done, and would be able to follow similar steps to do some data science on other topics!"
   ]
  },
  {
   "source": [
    "## Part 0: Setup\n",
    "\n",
    "The following imports and libraries will be used"
   ],
   "cell_type": "markdown",
   "metadata": {}
  },
  {
   "cell_type": "code",
   "execution_count": 1,
   "metadata": {},
   "outputs": [
    {
     "output_type": "stream",
     "name": "stdout",
     "text": [
      "Requirement already satisfied: lxml in /home/ibutz/.local/lib/python3.8/site-packages (4.6.3)\n"
     ]
    }
   ],
   "source": [
    "import pandas as pd\n",
    "import numpy as np\n",
    "import requests\n",
    "from bs4 import BeautifulSoup\n",
    "!pip3 install lxml"
   ]
  },
  {
   "cell_type": "markdown",
   "metadata": {},
   "source": [
    "## Part 1: Data Wrangling\n",
    "\n",
    "Perhaps the most important part is to get the data. This first dataset needed is a collection of past NBA draft picks college stats. This is what we will do analysis on, and train our machine learning model on. We found the website [barttorvik.com](https://www.barttorvik.com/playerstat.php?link=y&minGP=15&year=all&start=-11101&end=all0501) that contains an interactive table with college players and their stats. To get the players we wanted, the website allowed us to query all players since 2008 that were drafted (set drafted to <= 60). *More about this later....*\n",
    "\n",
    "Secondly, a dataset is needed for the current NBA draft class. With this data, we can feed that into our model and get predictions of the draft order"
   ]
  },
  {
   "source": [
    "### Note to group\n",
    "\n",
    "The data on barttorvik is a table generated using javascript. I have absolutely no idea how to scrape data in this way. To get the data, what I did was manually copy and paste the table into a blank csv file, and then pandas thankfully could interperet it decently enough. I still need to format the df. But if either of you know a better way to import the data, please do it that way/tell me and I can fix it, because copy/pasting is definitely not the best."
   ],
   "cell_type": "markdown",
   "metadata": {}
  },
  {
   "source": [
    "### Step a: Previous drafts\n",
    "\n",
    "Here, we will show how the data was acquired from previous years...."
   ],
   "cell_type": "markdown",
   "metadata": {}
  },
  {
   "cell_type": "code",
   "execution_count": 30,
   "metadata": {},
   "outputs": [
    {
     "output_type": "execute_result",
     "data": {
      "text/plain": [
       "                                RK  PICK                PLAYER Unnamed: 3  \\\n",
       "1 25 So 6-7    Reggie Bullock (12)  97.2        North Carolina        ACC   \n",
       "2 11 Fr 6-6     Klay Thompson (09)  91.8        Washington St.        P12   \n",
       "3 46 Fr 6-2  Andrew Goudelock (08)   0.0  College of Charlesto         SC   \n",
       "4 46 Fr 6-3     Norman Powell (12)  89.6                  UCLA        P12   \n",
       "5 19 Fr 6-7     Kevin Huerter (17)  87.2              Maryland        B10   \n",
       "\n",
       "             TEAM  CONF  MIN%  PRPG!  D-PRPG   BPM  ...  AST   TO   BLK  STL  \\\n",
       "1 25 So 6-7  63.3   2.6   3.1    6.5   118.0  14.9  ...  0.8  1.4   7.6  1.9   \n",
       "2 11 Fr 6-6  82.1   2.4   4.5    5.6    97.6  23.9  ...  2.2  1.9   8.2  2.5   \n",
       "3 46 Fr 6-2  71.4   2.9   1.9    2.7   113.3  21.4  ...  0.6  2.0   8.7  1.8   \n",
       "4 46 Fr 6-3  44.2   0.6   1.8    0.6    96.8  15.7  ...  1.8  1.6   9.4  3.1   \n",
       "5 19 Fr 6-7  74.1   2.4   3.5    6.9   110.7  16.4  ...  2.4  1.9  11.0  2.4   \n",
       "\n",
       "                FTR  FC/40    2P  3P/100     3P  YEAR  \n",
       "1 25 So 6-7  53-104  0.510  10.5  71-186  0.382  2012  \n",
       "2 11 Fr 6-6  91-213  0.427  10.2  68-165  0.412  2009  \n",
       "3 46 Fr 6-2  94-185  0.508  10.6  73-173  0.422  2008  \n",
       "4 46 Fr 6-3   32-79  0.405   7.6   24-70  0.343  2012  \n",
       "5 19 Fr 6-7   42-85  0.494  10.4  64-169  0.379  2017  \n",
       "\n",
       "[5 rows x 26 columns]"
      ],
      "text/html": "<div>\n<style scoped>\n    .dataframe tbody tr th:only-of-type {\n        vertical-align: middle;\n    }\n\n    .dataframe tbody tr th {\n        vertical-align: top;\n    }\n\n    .dataframe thead th {\n        text-align: right;\n    }\n</style>\n<table border=\"1\" class=\"dataframe\">\n  <thead>\n    <tr style=\"text-align: right;\">\n      <th></th>\n      <th></th>\n      <th></th>\n      <th></th>\n      <th>RK</th>\n      <th>PICK</th>\n      <th>PLAYER</th>\n      <th>Unnamed: 3</th>\n      <th>TEAM</th>\n      <th>CONF</th>\n      <th>MIN%</th>\n      <th>PRPG!</th>\n      <th>D-PRPG</th>\n      <th>BPM</th>\n      <th>...</th>\n      <th>AST</th>\n      <th>TO</th>\n      <th>BLK</th>\n      <th>STL</th>\n      <th>FTR</th>\n      <th>FC/40</th>\n      <th>2P</th>\n      <th>3P/100</th>\n      <th>3P</th>\n      <th>YEAR</th>\n    </tr>\n  </thead>\n  <tbody>\n    <tr>\n      <th>1</th>\n      <th>25</th>\n      <th>So</th>\n      <th>6-7</th>\n      <td>Reggie Bullock (12)</td>\n      <td>97.2</td>\n      <td>North Carolina</td>\n      <td>ACC</td>\n      <td>63.3</td>\n      <td>2.6</td>\n      <td>3.1</td>\n      <td>6.5</td>\n      <td>118.0</td>\n      <td>14.9</td>\n      <td>...</td>\n      <td>0.8</td>\n      <td>1.4</td>\n      <td>7.6</td>\n      <td>1.9</td>\n      <td>53-104</td>\n      <td>0.510</td>\n      <td>10.5</td>\n      <td>71-186</td>\n      <td>0.382</td>\n      <td>2012</td>\n    </tr>\n    <tr>\n      <th>2</th>\n      <th>11</th>\n      <th>Fr</th>\n      <th>6-6</th>\n      <td>Klay Thompson (09)</td>\n      <td>91.8</td>\n      <td>Washington St.</td>\n      <td>P12</td>\n      <td>82.1</td>\n      <td>2.4</td>\n      <td>4.5</td>\n      <td>5.6</td>\n      <td>97.6</td>\n      <td>23.9</td>\n      <td>...</td>\n      <td>2.2</td>\n      <td>1.9</td>\n      <td>8.2</td>\n      <td>2.5</td>\n      <td>91-213</td>\n      <td>0.427</td>\n      <td>10.2</td>\n      <td>68-165</td>\n      <td>0.412</td>\n      <td>2009</td>\n    </tr>\n    <tr>\n      <th>3</th>\n      <th>46</th>\n      <th>Fr</th>\n      <th>6-2</th>\n      <td>Andrew Goudelock (08)</td>\n      <td>0.0</td>\n      <td>College of Charlesto</td>\n      <td>SC</td>\n      <td>71.4</td>\n      <td>2.9</td>\n      <td>1.9</td>\n      <td>2.7</td>\n      <td>113.3</td>\n      <td>21.4</td>\n      <td>...</td>\n      <td>0.6</td>\n      <td>2.0</td>\n      <td>8.7</td>\n      <td>1.8</td>\n      <td>94-185</td>\n      <td>0.508</td>\n      <td>10.6</td>\n      <td>73-173</td>\n      <td>0.422</td>\n      <td>2008</td>\n    </tr>\n    <tr>\n      <th>4</th>\n      <th>46</th>\n      <th>Fr</th>\n      <th>6-3</th>\n      <td>Norman Powell (12)</td>\n      <td>89.6</td>\n      <td>UCLA</td>\n      <td>P12</td>\n      <td>44.2</td>\n      <td>0.6</td>\n      <td>1.8</td>\n      <td>0.6</td>\n      <td>96.8</td>\n      <td>15.7</td>\n      <td>...</td>\n      <td>1.8</td>\n      <td>1.6</td>\n      <td>9.4</td>\n      <td>3.1</td>\n      <td>32-79</td>\n      <td>0.405</td>\n      <td>7.6</td>\n      <td>24-70</td>\n      <td>0.343</td>\n      <td>2012</td>\n    </tr>\n    <tr>\n      <th>5</th>\n      <th>19</th>\n      <th>Fr</th>\n      <th>6-7</th>\n      <td>Kevin Huerter (17)</td>\n      <td>87.2</td>\n      <td>Maryland</td>\n      <td>B10</td>\n      <td>74.1</td>\n      <td>2.4</td>\n      <td>3.5</td>\n      <td>6.9</td>\n      <td>110.7</td>\n      <td>16.4</td>\n      <td>...</td>\n      <td>2.4</td>\n      <td>1.9</td>\n      <td>11.0</td>\n      <td>2.4</td>\n      <td>42-85</td>\n      <td>0.494</td>\n      <td>10.4</td>\n      <td>64-169</td>\n      <td>0.379</td>\n      <td>2017</td>\n    </tr>\n  </tbody>\n</table>\n<p>5 rows × 26 columns</p>\n</div>"
     },
     "metadata": {},
     "execution_count": 30
    }
   ],
   "source": [
    "pastPicks_df = pd.read_csv('past_college_players.csv', '\\t')\n",
    "pastPicks_df.head()"
   ]
  },
  {
   "source": [
    "### Step b: This year's draft\n",
    "\n",
    "Unfortunately we will not be able to predict everyone in the draft. This is because the deadline for players to announce for the NBA draft is May 30th, and this project is due May 17th. However, most players who will be picked higher up in the rankings declare earlier for the draft, so we can use these early declarations for predictions. [This website](https://ca.nba.com/news/2021-nba-draft-ncaa-players-that-have-declared-for-the-2021-nba-draft-e/hphzsl6bo6dh16t9tpee5628y) contains a nice table of all the players who have declared early thus far. Next, we use this list of names as a cross reference for the 2021 season stats, getting the 2021 season players stats from [barttorvik.com](https://www.barttorvik.com/playerstat.php?link=y&minGP=15&year=2021&start=20201101&end=20210501) again, now looking at player stats from 2021."
   ],
   "cell_type": "markdown",
   "metadata": {}
  },
  {
   "cell_type": "code",
   "execution_count": 25,
   "metadata": {},
   "outputs": [
    {
     "output_type": "execute_result",
     "data": {
      "text/plain": [
       "               Player Position   Year          School\n",
       "0        Ochai Agbaji       SG    Jr.          Kansas\n",
       "1        James Akinjo       PG    Jr.         Arizona\n",
       "2          Keve Aluma       PF  R-Jr.   Virginia Tech\n",
       "3       Jose Alvarado       PG    Sr.    Georgia Tech\n",
       "4  Avery Anderson III       PG    So.  Oklahoma State"
      ],
      "text/html": "<div>\n<style scoped>\n    .dataframe tbody tr th:only-of-type {\n        vertical-align: middle;\n    }\n\n    .dataframe tbody tr th {\n        vertical-align: top;\n    }\n\n    .dataframe thead th {\n        text-align: right;\n    }\n</style>\n<table border=\"1\" class=\"dataframe\">\n  <thead>\n    <tr style=\"text-align: right;\">\n      <th></th>\n      <th>Player</th>\n      <th>Position</th>\n      <th>Year</th>\n      <th>School</th>\n    </tr>\n  </thead>\n  <tbody>\n    <tr>\n      <th>0</th>\n      <td>Ochai Agbaji</td>\n      <td>SG</td>\n      <td>Jr.</td>\n      <td>Kansas</td>\n    </tr>\n    <tr>\n      <th>1</th>\n      <td>James Akinjo</td>\n      <td>PG</td>\n      <td>Jr.</td>\n      <td>Arizona</td>\n    </tr>\n    <tr>\n      <th>2</th>\n      <td>Keve Aluma</td>\n      <td>PF</td>\n      <td>R-Jr.</td>\n      <td>Virginia Tech</td>\n    </tr>\n    <tr>\n      <th>3</th>\n      <td>Jose Alvarado</td>\n      <td>PG</td>\n      <td>Sr.</td>\n      <td>Georgia Tech</td>\n    </tr>\n    <tr>\n      <th>4</th>\n      <td>Avery Anderson III</td>\n      <td>PG</td>\n      <td>So.</td>\n      <td>Oklahoma State</td>\n    </tr>\n  </tbody>\n</table>\n</div>"
     },
     "metadata": {},
     "execution_count": 25
    }
   ],
   "source": [
    "# HTML Scraping the list of early draft commits using requests, BeautifulSoup, and pandas\n",
    "r = requests.get(\"https://ca.nba.com/news/2021-nba-draft-ncaa-players-that-have-declared-for-the-2021-nba-draft-e/hphzsl6bo6dh16t9tpee5628y\")\n",
    "soup = BeautifulSoup(r.content, 'lxml')\n",
    "\n",
    "# Find the table in the html, thankfully only one\n",
    "html_table = soup.find(\"table\")\n",
    "earlycomm_df = pd.read_html(str(html_table), header=0)[0]\n",
    "earlycomm_df.head()"
   ]
  },
  {
   "cell_type": "code",
   "execution_count": 27,
   "metadata": {},
   "outputs": [],
   "source": [
    "# Now add this to a list\n",
    "earlyComm_list = earlycomm_df['Player'].tolist"
   ]
  },
  {
   "source": [
    "### Note to group\n",
    "\n",
    "Again, for this I manually copy/pasted the table into a blank csv and moved it in. Again, the table it meh, still a little messed up, but easily fixable with some code. So once again, if either of you can figure out how to query this/scrape it in a better way, please let me know/do it yourself."
   ],
   "cell_type": "markdown",
   "metadata": {}
  },
  {
   "cell_type": "code",
   "execution_count": 32,
   "metadata": {},
   "outputs": [
    {
     "output_type": "execute_result",
     "data": {
      "text/plain": [
       "                                    RK PLAYER  TEAM  CONF  MIN%  PRPG!   BPM  \\\n",
       "1 Sr 6-11 Luka Garza              Iowa    B10  78.8   7.0  12.5  124.0  30.4   \n",
       "2 So 6-1  Max Abmas       Oral Roberts    Sum  95.8   6.6   6.5  121.8  28.9   \n",
       "3 Jr 5-11 Kendric Davis            SMU   Amer  86.8   6.5   9.7  121.6  27.6   \n",
       "4 Fr 6-4  Cameron Thomas           LSU    SEC  84.6   6.0   5.3  114.6  29.2   \n",
       "5 So 6-10 Drew Timme           Gonzaga    WCC  70.1   5.9  10.9  129.3  26.5   \n",
       "\n",
       "                          ORTG   USG   EFG  ...    OR    DR  AST   TO   BLK  \\\n",
       "1 Sr 6-11 Luka Garza      59.6  62.0  10.4  ...  12.1   8.9  5.2  1.2  39.2   \n",
       "2 So 6-1  Max Abmas       58.1  63.0   1.4  ...  22.3  12.3  0.4  2.1  33.2   \n",
       "3 Jr 5-11 Kendric Davis   53.4  58.3   1.6  ...  46.2  14.1  0.2  2.6  35.4   \n",
       "4 Fr 6-4  Cameron Thomas  47.4  55.3   2.0  ...   8.3   9.4  0.7  1.4  44.0   \n",
       "5 So 6-10 Drew Timme      66.3  67.7  10.4  ...  14.4  12.8  2.5  1.3  50.8   \n",
       "\n",
       "                              STL    FTR    2P  3P/100     3P  \n",
       "1 Sr 6-11 Luka Garza      237-408  0.581   5.7  44-100  0.440  \n",
       "2 So 6-1  Max Abmas       119-231  0.515  12.4  97-224  0.433  \n",
       "3 Jr 5-11 Kendric Davis    89-170  0.524   6.4   25-67  0.373  \n",
       "4 Fr 6-4  Cameron Thomas  135-291  0.464  11.7  68-209  0.325  \n",
       "5 So 6-10 Drew Timme      231-340  0.679   1.3    6-22  0.273  \n",
       "\n",
       "[5 rows x 21 columns]"
      ],
      "text/html": "<div>\n<style scoped>\n    .dataframe tbody tr th:only-of-type {\n        vertical-align: middle;\n    }\n\n    .dataframe tbody tr th {\n        vertical-align: top;\n    }\n\n    .dataframe thead th {\n        text-align: right;\n    }\n</style>\n<table border=\"1\" class=\"dataframe\">\n  <thead>\n    <tr style=\"text-align: right;\">\n      <th></th>\n      <th></th>\n      <th></th>\n      <th></th>\n      <th>RK</th>\n      <th>PLAYER</th>\n      <th>TEAM</th>\n      <th>CONF</th>\n      <th>MIN%</th>\n      <th>PRPG!</th>\n      <th>BPM</th>\n      <th>ORTG</th>\n      <th>USG</th>\n      <th>EFG</th>\n      <th>...</th>\n      <th>OR</th>\n      <th>DR</th>\n      <th>AST</th>\n      <th>TO</th>\n      <th>BLK</th>\n      <th>STL</th>\n      <th>FTR</th>\n      <th>2P</th>\n      <th>3P/100</th>\n      <th>3P</th>\n    </tr>\n  </thead>\n  <tbody>\n    <tr>\n      <th>1</th>\n      <th>Sr</th>\n      <th>6-11</th>\n      <th>Luka Garza</th>\n      <td>Iowa</td>\n      <td>B10</td>\n      <td>78.8</td>\n      <td>7.0</td>\n      <td>12.5</td>\n      <td>124.0</td>\n      <td>30.4</td>\n      <td>59.6</td>\n      <td>62.0</td>\n      <td>10.4</td>\n      <td>...</td>\n      <td>12.1</td>\n      <td>8.9</td>\n      <td>5.2</td>\n      <td>1.2</td>\n      <td>39.2</td>\n      <td>237-408</td>\n      <td>0.581</td>\n      <td>5.7</td>\n      <td>44-100</td>\n      <td>0.440</td>\n    </tr>\n    <tr>\n      <th>2</th>\n      <th>So</th>\n      <th>6-1</th>\n      <th>Max Abmas</th>\n      <td>Oral Roberts</td>\n      <td>Sum</td>\n      <td>95.8</td>\n      <td>6.6</td>\n      <td>6.5</td>\n      <td>121.8</td>\n      <td>28.9</td>\n      <td>58.1</td>\n      <td>63.0</td>\n      <td>1.4</td>\n      <td>...</td>\n      <td>22.3</td>\n      <td>12.3</td>\n      <td>0.4</td>\n      <td>2.1</td>\n      <td>33.2</td>\n      <td>119-231</td>\n      <td>0.515</td>\n      <td>12.4</td>\n      <td>97-224</td>\n      <td>0.433</td>\n    </tr>\n    <tr>\n      <th>3</th>\n      <th>Jr</th>\n      <th>5-11</th>\n      <th>Kendric Davis</th>\n      <td>SMU</td>\n      <td>Amer</td>\n      <td>86.8</td>\n      <td>6.5</td>\n      <td>9.7</td>\n      <td>121.6</td>\n      <td>27.6</td>\n      <td>53.4</td>\n      <td>58.3</td>\n      <td>1.6</td>\n      <td>...</td>\n      <td>46.2</td>\n      <td>14.1</td>\n      <td>0.2</td>\n      <td>2.6</td>\n      <td>35.4</td>\n      <td>89-170</td>\n      <td>0.524</td>\n      <td>6.4</td>\n      <td>25-67</td>\n      <td>0.373</td>\n    </tr>\n    <tr>\n      <th>4</th>\n      <th>Fr</th>\n      <th>6-4</th>\n      <th>Cameron Thomas</th>\n      <td>LSU</td>\n      <td>SEC</td>\n      <td>84.6</td>\n      <td>6.0</td>\n      <td>5.3</td>\n      <td>114.6</td>\n      <td>29.2</td>\n      <td>47.4</td>\n      <td>55.3</td>\n      <td>2.0</td>\n      <td>...</td>\n      <td>8.3</td>\n      <td>9.4</td>\n      <td>0.7</td>\n      <td>1.4</td>\n      <td>44.0</td>\n      <td>135-291</td>\n      <td>0.464</td>\n      <td>11.7</td>\n      <td>68-209</td>\n      <td>0.325</td>\n    </tr>\n    <tr>\n      <th>5</th>\n      <th>So</th>\n      <th>6-10</th>\n      <th>Drew Timme</th>\n      <td>Gonzaga</td>\n      <td>WCC</td>\n      <td>70.1</td>\n      <td>5.9</td>\n      <td>10.9</td>\n      <td>129.3</td>\n      <td>26.5</td>\n      <td>66.3</td>\n      <td>67.7</td>\n      <td>10.4</td>\n      <td>...</td>\n      <td>14.4</td>\n      <td>12.8</td>\n      <td>2.5</td>\n      <td>1.3</td>\n      <td>50.8</td>\n      <td>231-340</td>\n      <td>0.679</td>\n      <td>1.3</td>\n      <td>6-22</td>\n      <td>0.273</td>\n    </tr>\n  </tbody>\n</table>\n<p>5 rows × 21 columns</p>\n</div>"
     },
     "metadata": {},
     "execution_count": 32
    }
   ],
   "source": [
    "stats2021_df = pd.read_csv('2021season.csv', '\\t')\n",
    "stats2021_df.head()"
   ]
  },
  {
   "cell_type": "code",
   "execution_count": 33,
   "metadata": {},
   "outputs": [],
   "source": [
    "# Next, do a cross reference to get a smaller df, something like stats2021_df.where(earlyComm_lsit contains(stats2021['Player']))"
   ]
  },
  {
   "source": [
    "## Part 2\n",
    "\n",
    "Now that all the data has been collected, the data analysis can begin. The important things to analyze is..... "
   ],
   "cell_type": "markdown",
   "metadata": {}
  },
  {
   "cell_type": "code",
   "execution_count": null,
   "metadata": {},
   "outputs": [],
   "source": []
  },
  {
   "cell_type": "code",
   "execution_count": null,
   "metadata": {},
   "outputs": [],
   "source": []
  },
  {
   "cell_type": "code",
   "execution_count": null,
   "metadata": {},
   "outputs": [],
   "source": []
  },
  {
   "source": [
    "## Part 3\n",
    "\n",
    "Next we can try to train a model to predict the 2021 NBA draft. We have shown what parameters seem to be the most important, so we can train the model to look at those.......\n"
   ],
   "cell_type": "markdown",
   "metadata": {}
  },
  {
   "cell_type": "code",
   "execution_count": null,
   "metadata": {},
   "outputs": [],
   "source": []
  },
  {
   "cell_type": "code",
   "execution_count": null,
   "metadata": {},
   "outputs": [],
   "source": []
  },
  {
   "cell_type": "code",
   "execution_count": null,
   "metadata": {},
   "outputs": [],
   "source": []
  },
  {
   "cell_type": "code",
   "execution_count": null,
   "metadata": {},
   "outputs": [],
   "source": []
  }
 ],
 "metadata": {
  "kernelspec": {
   "display_name": "Python 3",
   "language": "python",
   "name": "python3"
  },
  "language_info": {
   "codemirror_mode": {
    "name": "ipython",
    "version": 3
   },
   "file_extension": ".py",
   "mimetype": "text/x-python",
   "name": "python",
   "nbconvert_exporter": "python",
   "pygments_lexer": "ipython3",
   "version": "3.8.5"
  },
  "metadata": {
   "interpreter": {
    "hash": "916dbcbb3f70747c44a77c7bcd40155683ae19c65e1c03b4aa3499c5328201f1"
   }
  }
 },
 "nbformat": 4,
 "nbformat_minor": 2
}