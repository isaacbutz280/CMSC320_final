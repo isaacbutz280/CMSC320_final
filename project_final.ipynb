{
 "cells": [
  {
   "cell_type": "markdown",
   "metadata": {},
   "source": [
    "# Predicting the NBA Draft\n",
    "\n",
    "Welcome to our tutorial! In this project, the goal is to look at what factors are the most important for NBA draft picks. First, a little bit about the NBA. The National Basketball Association, or NBA, is the highest level professional basketball league in the world. It is composed of 30 teams that play 82 games each, before a playoff bracket is set. The most common way for players to enter the league (After 2006, read more about the rule change [here](https://en.wikipedia.org/wiki/Eligibility_for_the_NBA_draft)) is to be drafted in the NBA draft. The draft consists of 2 rounds, with each team getting 1 pick per round, for a total of 60 picks. \n",
    "\n",
    "The end goal of this project is to try and predict the [2021 NBA draft](https://en.wikipedia.org/wiki/2021_NBA_draft) that will take place on July 29th. Finding out the position of draft picks would be useful for those in the sports industry. A team would be able to predict what players other teams will select, see if players are over/under-rated, or possibly help set sports betting odds. However to start predicting the draft, we must look at past drafts to see what are the most important factors for an NBA draft pick. The project will be broken up into 3 sections:\n",
    "\n",
    "1. Data Wrangling\n",
    "2. Analysis of Previous Drafts\n",
    "3. Predictions of 2021 Draft\n",
    "\n",
    "Over the course of this guide, we hope the reader is able to understand how and why data analysis is done, and would be able to follow similar steps to do some data science on other topics!"
   ]
  },
  {
   "source": [
    "## Part 0: Setup\n",
    "\n",
    "The following imports and libraries will be used"
   ],
   "cell_type": "markdown",
   "metadata": {}
  },
  {
   "cell_type": "code",
   "execution_count": 1,
   "metadata": {},
   "outputs": [
    {
     "output_type": "stream",
     "name": "stdout",
     "text": [
      "Requirement already satisfied: lxml in /home/ibutz/.local/lib/python3.8/site-packages (4.6.3)\n"
     ]
    }
   ],
   "source": [
    "import pandas as pd\n",
    "import numpy as np\n",
    "import requests\n",
    "from bs4 import BeautifulSoup\n",
    "!pip3 install lxml"
   ]
  },
  {
   "cell_type": "markdown",
   "metadata": {},
   "source": [
    "## Part 1: Data Wrangling\n",
    "\n",
    "Perhaps the most important part is to get the data. This first dataset needed is a collection of past NBA draft picks college stats. This is what we will do analysis on, and train our machine learning model on. We found the website [barttorvik.com](https://www.barttorvik.com/playerstat.php?link=y&year=2022&start=20211101&end=20220501) that contains data on players basketball stats over the years. Secondly, a dataset is needed for the current NBA draft class. With this data, we can feed that into our model and get predictions of the draft order."
   ]
  },
  {
   "source": [
    "### Note to group\n",
    "\n",
    "The data on barttorvik is a table generated using javascript. I have absolutely no idea how to scrape data in this way. To get the data, what I did was manually copy and paste the table into a blank csv file, and then pandas thankfully could interperet it decently enough. I still need to format the df. But if either of you know a better way to import the data, please do it that way/tell me and I can fix it, because copy/pasting is definitely not the best."
   ],
   "cell_type": "markdown",
   "metadata": {}
  },
  {
   "source": [
    "### Step a: Previous NBA drafts\n",
    "\n",
    "Unfortunately, the data is generated using javascript and we were unable to parse it, so it was done manually. Here are the steps. From [here](https://www.barttorvik.com/playerstat.php?link=y&year=2022&start=20211101&end=20220501), under the top drop down menu 'all' was selected to get all time. Next, scrolling down the left side, Min%, O-Reb%, D-Reb%, Ast%, Blk%, Stl%, FTR, 2PM, 3PM, and drafted were selected to be shown. Drafted was also set to \"<=\" and \"60\", since there are 60 picks in the NBA draft. After that, \"name\" was clicked twice so the players were sorted by name. Then, the \"Show 100 more\" option was repeatedly selected, until the full 1302 element table was shown. Lastly, the entire table was selected using a cursor, and copy/pasted into a blank csv file that was read into `pandas`.\n",
    "\n",
    "The better approach would be to use a library such a `selenium`, however we had difficulties figuring this out."
   ],
   "cell_type": "markdown",
   "metadata": {}
  },
  {
   "cell_type": "code",
   "execution_count": 2,
   "metadata": {},
   "outputs": [
    {
     "output_type": "execute_result",
     "data": {
      "text/plain": [
       "                            RK         PICK PLAYER  TEAM  CONF  MIN%    OR  \\\n",
       "1 46 Fr 7-0  A.J. Hammons (13)       Purdue    B10  57.4  11.6  17.3   6.2   \n",
       "2 46 So 7-0  A.J. Hammons (14)       Purdue    B10  59.6  10.1  22.8   4.2   \n",
       "3 46 Jr 7-0  A.J. Hammons (15)       Purdue    B10  60.1  12.2  19.7   9.1   \n",
       "4 46 Sr 7-0  A.J. Hammons (16)       Purdue    B10  57.5  11.5  24.8  10.5   \n",
       "5 52 Jr 6-2    A.J. Price (08)  Connecticut     BE  79.7   2.8   8.1  36.1   \n",
       "\n",
       "               DR  AST   BLK      STL    FTR      2P     3P  YEAR  \n",
       "1 46 Fr 7-0   8.7  0.9  41.0  140-283  0.495     0-0  0.000  2013  \n",
       "2 46 So 7-0  13.2  0.9  62.2  114-220  0.518     0-5  0.000  2014  \n",
       "3 46 Jr 7-0  12.3  1.3  46.7  157-284  0.553     0-7  0.000  2015  \n",
       "4 46 Sr 7-0  10.4  0.7  37.8  193-325  0.594    6-11  0.545  2016  \n",
       "5 52 Jr 6-2   0.3  2.3  38.8  108-225  0.480  52-141  0.369  2008  "
      ],
      "text/html": "<div>\n<style scoped>\n    .dataframe tbody tr th:only-of-type {\n        vertical-align: middle;\n    }\n\n    .dataframe tbody tr th {\n        vertical-align: top;\n    }\n\n    .dataframe thead th {\n        text-align: right;\n    }\n</style>\n<table border=\"1\" class=\"dataframe\">\n  <thead>\n    <tr style=\"text-align: right;\">\n      <th></th>\n      <th></th>\n      <th></th>\n      <th></th>\n      <th>RK</th>\n      <th>PICK</th>\n      <th>PLAYER</th>\n      <th>TEAM</th>\n      <th>CONF</th>\n      <th>MIN%</th>\n      <th>OR</th>\n      <th>DR</th>\n      <th>AST</th>\n      <th>BLK</th>\n      <th>STL</th>\n      <th>FTR</th>\n      <th>2P</th>\n      <th>3P</th>\n      <th>YEAR</th>\n    </tr>\n  </thead>\n  <tbody>\n    <tr>\n      <th>1</th>\n      <th>46</th>\n      <th>Fr</th>\n      <th>7-0</th>\n      <td>A.J. Hammons (13)</td>\n      <td>Purdue</td>\n      <td>B10</td>\n      <td>57.4</td>\n      <td>11.6</td>\n      <td>17.3</td>\n      <td>6.2</td>\n      <td>8.7</td>\n      <td>0.9</td>\n      <td>41.0</td>\n      <td>140-283</td>\n      <td>0.495</td>\n      <td>0-0</td>\n      <td>0.000</td>\n      <td>2013</td>\n    </tr>\n    <tr>\n      <th>2</th>\n      <th>46</th>\n      <th>So</th>\n      <th>7-0</th>\n      <td>A.J. Hammons (14)</td>\n      <td>Purdue</td>\n      <td>B10</td>\n      <td>59.6</td>\n      <td>10.1</td>\n      <td>22.8</td>\n      <td>4.2</td>\n      <td>13.2</td>\n      <td>0.9</td>\n      <td>62.2</td>\n      <td>114-220</td>\n      <td>0.518</td>\n      <td>0-5</td>\n      <td>0.000</td>\n      <td>2014</td>\n    </tr>\n    <tr>\n      <th>3</th>\n      <th>46</th>\n      <th>Jr</th>\n      <th>7-0</th>\n      <td>A.J. Hammons (15)</td>\n      <td>Purdue</td>\n      <td>B10</td>\n      <td>60.1</td>\n      <td>12.2</td>\n      <td>19.7</td>\n      <td>9.1</td>\n      <td>12.3</td>\n      <td>1.3</td>\n      <td>46.7</td>\n      <td>157-284</td>\n      <td>0.553</td>\n      <td>0-7</td>\n      <td>0.000</td>\n      <td>2015</td>\n    </tr>\n    <tr>\n      <th>4</th>\n      <th>46</th>\n      <th>Sr</th>\n      <th>7-0</th>\n      <td>A.J. Hammons (16)</td>\n      <td>Purdue</td>\n      <td>B10</td>\n      <td>57.5</td>\n      <td>11.5</td>\n      <td>24.8</td>\n      <td>10.5</td>\n      <td>10.4</td>\n      <td>0.7</td>\n      <td>37.8</td>\n      <td>193-325</td>\n      <td>0.594</td>\n      <td>6-11</td>\n      <td>0.545</td>\n      <td>2016</td>\n    </tr>\n    <tr>\n      <th>5</th>\n      <th>52</th>\n      <th>Jr</th>\n      <th>6-2</th>\n      <td>A.J. Price (08)</td>\n      <td>Connecticut</td>\n      <td>BE</td>\n      <td>79.7</td>\n      <td>2.8</td>\n      <td>8.1</td>\n      <td>36.1</td>\n      <td>0.3</td>\n      <td>2.3</td>\n      <td>38.8</td>\n      <td>108-225</td>\n      <td>0.480</td>\n      <td>52-141</td>\n      <td>0.369</td>\n      <td>2008</td>\n    </tr>\n  </tbody>\n</table>\n</div>"
     },
     "metadata": {},
     "execution_count": 2
    }
   ],
   "source": [
    "# Start by reading in from the csv we manually created\n",
    "pastPicks_df = pd.read_csv('past_college_players.csv', '\\t')\n",
    "pastPicks_df.head()"
   ]
  },
  {
   "source": [
    "The data is super messey. We want to fix it and have the following columns:\n",
    "\n",
    "- 'pick': What pick of the draft they were\n",
    "- 'class': Their college class\n",
    "- 'player': The player's name\n",
    "- 'minutes_per': Percentage of the game played\n",
    "- 'off_reb_per': [ORB%](https://www.basketball-reference.com/about/glossary.html#orb)\n",
    "- 'def_reb_per': [DRB%](https://www.basketball-reference.com/about/glossary.html#drb)\n",
    "- 'assist_per': [AST%](https://www.basketball-reference.com/about/glossary.html#ast)\n",
    "- 'block_per': [BLK%](https://www.basketball-reference.com/about/glossary.html#blk)\n",
    "- 'steal_per': [STL%](https://www.basketball-reference.com/about/glossary.html#stl)\n",
    "- 'free_throw_per': [FT%](https://www.basketball-reference.com/about/glossary.html#ft)\n",
    "- 'two_point_per': [2P%](https://www.basketball-reference.com/about/glossary.html#fg2)\n",
    "- 'three_point_per': [3P%](https://www.basketball-reference.com/about/glossary.html#fg3)\n",
    "\n",
    "The last 8 are hyperlinks to a gloassary by [basketball-reference.com](https://www.basketball-reference.com/about/glossary.html) that further explains what these columns mean."
   ],
   "cell_type": "markdown",
   "metadata": {}
  },
  {
   "cell_type": "code",
   "execution_count": 3,
   "metadata": {
    "tags": []
   },
   "outputs": [
    {
     "output_type": "execute_result",
     "data": {
      "text/plain": [
       "  pick class         player minutes_per off_reb_per def_reb_per assist_per  \\\n",
       "0   46    Sr   A.J. Hammons        57.5        11.5        24.8       10.5   \n",
       "1   52    Sr     A.J. Price        73.0         2.1         9.2       28.5   \n",
       "2    4    Fr   Aaron Gordon        77.1        10.4        19.3       13.0   \n",
       "3   23    Jr  Aaron Holiday        92.1         1.6         8.7       29.9   \n",
       "4   14    Fr  Aaron Nesmith        72.2         4.2        17.3       10.8   \n",
       "\n",
       "  block_per steal_per free_throw_per two_point_per three_point_per  \n",
       "0      10.4       0.7           37.8         0.594           0.545  \n",
       "1       0.0       1.2           30.3         0.422           0.398  \n",
       "2       3.4       1.8           47.1         0.513           0.356  \n",
       "3       0.7       1.9           41.7         0.486           0.429  \n",
       "4       2.1       1.4           27.5         0.474           0.337  "
      ],
      "text/html": "<div>\n<style scoped>\n    .dataframe tbody tr th:only-of-type {\n        vertical-align: middle;\n    }\n\n    .dataframe tbody tr th {\n        vertical-align: top;\n    }\n\n    .dataframe thead th {\n        text-align: right;\n    }\n</style>\n<table border=\"1\" class=\"dataframe\">\n  <thead>\n    <tr style=\"text-align: right;\">\n      <th></th>\n      <th>pick</th>\n      <th>class</th>\n      <th>player</th>\n      <th>minutes_per</th>\n      <th>off_reb_per</th>\n      <th>def_reb_per</th>\n      <th>assist_per</th>\n      <th>block_per</th>\n      <th>steal_per</th>\n      <th>free_throw_per</th>\n      <th>two_point_per</th>\n      <th>three_point_per</th>\n    </tr>\n  </thead>\n  <tbody>\n    <tr>\n      <th>0</th>\n      <td>46</td>\n      <td>Sr</td>\n      <td>A.J. Hammons</td>\n      <td>57.5</td>\n      <td>11.5</td>\n      <td>24.8</td>\n      <td>10.5</td>\n      <td>10.4</td>\n      <td>0.7</td>\n      <td>37.8</td>\n      <td>0.594</td>\n      <td>0.545</td>\n    </tr>\n    <tr>\n      <th>1</th>\n      <td>52</td>\n      <td>Sr</td>\n      <td>A.J. Price</td>\n      <td>73.0</td>\n      <td>2.1</td>\n      <td>9.2</td>\n      <td>28.5</td>\n      <td>0.0</td>\n      <td>1.2</td>\n      <td>30.3</td>\n      <td>0.422</td>\n      <td>0.398</td>\n    </tr>\n    <tr>\n      <th>2</th>\n      <td>4</td>\n      <td>Fr</td>\n      <td>Aaron Gordon</td>\n      <td>77.1</td>\n      <td>10.4</td>\n      <td>19.3</td>\n      <td>13.0</td>\n      <td>3.4</td>\n      <td>1.8</td>\n      <td>47.1</td>\n      <td>0.513</td>\n      <td>0.356</td>\n    </tr>\n    <tr>\n      <th>3</th>\n      <td>23</td>\n      <td>Jr</td>\n      <td>Aaron Holiday</td>\n      <td>92.1</td>\n      <td>1.6</td>\n      <td>8.7</td>\n      <td>29.9</td>\n      <td>0.7</td>\n      <td>1.9</td>\n      <td>41.7</td>\n      <td>0.486</td>\n      <td>0.429</td>\n    </tr>\n    <tr>\n      <th>4</th>\n      <td>14</td>\n      <td>Fr</td>\n      <td>Aaron Nesmith</td>\n      <td>72.2</td>\n      <td>4.2</td>\n      <td>17.3</td>\n      <td>10.8</td>\n      <td>2.1</td>\n      <td>1.4</td>\n      <td>27.5</td>\n      <td>0.474</td>\n      <td>0.337</td>\n    </tr>\n  </tbody>\n</table>\n</div>"
     },
     "metadata": {},
     "execution_count": 3
    }
   ],
   "source": [
    "# Create a 2d array that has 12 arrays for our 12 categories\n",
    "data = [[], [], [], [], [], [], [], [], [], [], [], []]\n",
    "for i, r in pastPicks_df.iterrows():\n",
    "    data[0].append(i[1])\n",
    "    data[1].append(i[2])\n",
    "    data[2].append(r['RK'][slice(0, len(r['RK']) - 5)])\n",
    "    data[3].append(r['TEAM'])\n",
    "    data[4].append(r['CONF'])\n",
    "    data[5].append(r['MIN%'])\n",
    "    data[6].append(r['OR'])\n",
    "    data[7].append(r['DR'])\n",
    "    data[8].append(r['AST'])\n",
    "    data[9].append(r['BLK'])\n",
    "    data[10].append(r['FTR'])\n",
    "    data[11].append(r['3P'])\n",
    "\n",
    "headers = ['pick', 'class', 'player', 'minutes_per', 'off_reb_per', 'def_reb_per', 'assist_per', 'block_per', 'steal_per', 'free_throw_per', 'two_point_per', 'three_point_per']\n",
    "# pandas reads in row wise, so I use T to take the transpose\n",
    "pastPicks_df = pd.DataFrame(np.array(data).T, columns=headers)\n",
    "\n",
    "# The last thing to do is only take a players final year in the NCAA. \n",
    "# Thankfully, the way the data is formatted all I have to do is get last occurance of each player\n",
    "pastPicks_df = pastPicks_df.drop_duplicates(subset='player', keep='last', ignore_index=True)\n",
    "\n",
    "# Push it to csv for later use as well\n",
    "pastPicks_df.to_csv('cleaned_train.csv')\n",
    "\n",
    "pastPicks_df.head()"
   ]
  },
  {
   "source": [
    "### Step b: This year's draft\n",
    "\n",
    "Unfortunately we will not be able to predict everyone in the draft. This is because the deadline for players to announce for the NBA draft is May 30th, and this project is due May 17th. However, most players who will be picked higher up in the rankings declare earlier for the draft, so we can use these early declarations for predictions. [This website](https://ca.nba.com/news/2021-nba-draft-ncaa-players-that-have-declared-for-the-2021-nba-draft-e/hphzsl6bo6dh16t9tpee5628y) contains a nice table of all the players who have declared early thus far. \n",
    "\n",
    "Next, we use this list of names as a cross reference for the 2021 season stats, getting the 2021 season players stats from barttorvik.com again. Like before, this data is created using javascript, so here are the steps for how we manually got the data. First, go to [barttorvik player stats](https://www.barttorvik.com/playerstat.php?year=2021). Make sure the year is 2021. Next, select Min%, O-Reb%, D-Reb%, Ast%, Blk%, Stl%, FTR, 2PM, and 3PM. And once again, show 100 more was selected repeatedly until all 2125 players were visible. Lastly, this was copy/pasted into a csv file, which is read in and processed."
   ],
   "cell_type": "markdown",
   "metadata": {}
  },
  {
   "cell_type": "code",
   "execution_count": 4,
   "metadata": {},
   "outputs": [
    {
     "output_type": "execute_result",
     "data": {
      "text/plain": [
       "               Player Position   Year          School\n",
       "0        Ochai Agbaji       SG    Jr.          Kansas\n",
       "1        James Akinjo       PG    Jr.         Arizona\n",
       "2          Keve Aluma       PF  R-Jr.   Virginia Tech\n",
       "3       Jose Alvarado       PG    Sr.    Georgia Tech\n",
       "4  Avery Anderson III       PG    So.  Oklahoma State"
      ],
      "text/html": "<div>\n<style scoped>\n    .dataframe tbody tr th:only-of-type {\n        vertical-align: middle;\n    }\n\n    .dataframe tbody tr th {\n        vertical-align: top;\n    }\n\n    .dataframe thead th {\n        text-align: right;\n    }\n</style>\n<table border=\"1\" class=\"dataframe\">\n  <thead>\n    <tr style=\"text-align: right;\">\n      <th></th>\n      <th>Player</th>\n      <th>Position</th>\n      <th>Year</th>\n      <th>School</th>\n    </tr>\n  </thead>\n  <tbody>\n    <tr>\n      <th>0</th>\n      <td>Ochai Agbaji</td>\n      <td>SG</td>\n      <td>Jr.</td>\n      <td>Kansas</td>\n    </tr>\n    <tr>\n      <th>1</th>\n      <td>James Akinjo</td>\n      <td>PG</td>\n      <td>Jr.</td>\n      <td>Arizona</td>\n    </tr>\n    <tr>\n      <th>2</th>\n      <td>Keve Aluma</td>\n      <td>PF</td>\n      <td>R-Jr.</td>\n      <td>Virginia Tech</td>\n    </tr>\n    <tr>\n      <th>3</th>\n      <td>Jose Alvarado</td>\n      <td>PG</td>\n      <td>Sr.</td>\n      <td>Georgia Tech</td>\n    </tr>\n    <tr>\n      <th>4</th>\n      <td>Avery Anderson III</td>\n      <td>PG</td>\n      <td>So.</td>\n      <td>Oklahoma State</td>\n    </tr>\n  </tbody>\n</table>\n</div>"
     },
     "metadata": {},
     "execution_count": 4
    }
   ],
   "source": [
    "# HTML Scraping the list of early draft commits using requests, BeautifulSoup, and pandas\n",
    "r = requests.get(\"https://ca.nba.com/news/2021-nba-draft-ncaa-players-that-have-declared-for-the-2021-nba-draft-e/hphzsl6bo6dh16t9tpee5628y\")\n",
    "soup = BeautifulSoup(r.content, 'lxml')\n",
    "\n",
    "# Find the table in the html, thankfully only one\n",
    "html_table = soup.find(\"table\")\n",
    "earlycomm_df = pd.read_html(str(html_table), header=0)[0]\n",
    "earlycomm_df.head()"
   ]
  },
  {
   "cell_type": "code",
   "execution_count": 5,
   "metadata": {},
   "outputs": [
    {
     "output_type": "execute_result",
     "data": {
      "text/plain": [
       "                                    RK PLAYER  TEAM  CONF  MIN%    OR   DR  \\\n",
       "1 Jr 6-5 A.J. Caldwell     Chattanooga     SC  80.2   1.6  14.9  13.7  1.3   \n",
       "2 Sr 6-5 A.J. Lawson       McNeese St.   Slnd  73.3   5.3  14.9  33.9  0.4   \n",
       "3 Jr 6-5 A.J. Oliver II   Old Dominion   CUSA  66.9   2.5   8.9   7.3  0.8   \n",
       "4 So 6-2 A.J. Plitzuweit  South Dakota    Sum  75.6   2.4  11.6  23.4  0.3   \n",
       "5 Jr 6-6 A.J. Reeves        Providence     BE  77.2   2.3  10.6  10.3  0.3   \n",
       "\n",
       "                          AST   BLK     STL    FTR      2P     3P  \n",
       "1 Jr 6-5 A.J. Caldwell    2.1   9.2   15-41  0.366   36-90  0.400  \n",
       "2 Sr 6-5 A.J. Lawson      1.4  42.3  58-122  0.475   11-34  0.324  \n",
       "3 Jr 6-5 A.J. Oliver II   1.1  19.2   36-65  0.554  32-102  0.314  \n",
       "4 So 6-2 A.J. Plitzuweit  1.5  38.3  76-165  0.461  52-117  0.444  \n",
       "5 Jr 6-6 A.J. Reeves      1.9  23.2   31-74  0.419  48-150  0.320  "
      ],
      "text/html": "<div>\n<style scoped>\n    .dataframe tbody tr th:only-of-type {\n        vertical-align: middle;\n    }\n\n    .dataframe tbody tr th {\n        vertical-align: top;\n    }\n\n    .dataframe thead th {\n        text-align: right;\n    }\n</style>\n<table border=\"1\" class=\"dataframe\">\n  <thead>\n    <tr style=\"text-align: right;\">\n      <th></th>\n      <th></th>\n      <th></th>\n      <th></th>\n      <th>RK</th>\n      <th>PLAYER</th>\n      <th>TEAM</th>\n      <th>CONF</th>\n      <th>MIN%</th>\n      <th>OR</th>\n      <th>DR</th>\n      <th>AST</th>\n      <th>BLK</th>\n      <th>STL</th>\n      <th>FTR</th>\n      <th>2P</th>\n      <th>3P</th>\n    </tr>\n  </thead>\n  <tbody>\n    <tr>\n      <th>1</th>\n      <th>Jr</th>\n      <th>6-5</th>\n      <th>A.J. Caldwell</th>\n      <td>Chattanooga</td>\n      <td>SC</td>\n      <td>80.2</td>\n      <td>1.6</td>\n      <td>14.9</td>\n      <td>13.7</td>\n      <td>1.3</td>\n      <td>2.1</td>\n      <td>9.2</td>\n      <td>15-41</td>\n      <td>0.366</td>\n      <td>36-90</td>\n      <td>0.400</td>\n    </tr>\n    <tr>\n      <th>2</th>\n      <th>Sr</th>\n      <th>6-5</th>\n      <th>A.J. Lawson</th>\n      <td>McNeese St.</td>\n      <td>Slnd</td>\n      <td>73.3</td>\n      <td>5.3</td>\n      <td>14.9</td>\n      <td>33.9</td>\n      <td>0.4</td>\n      <td>1.4</td>\n      <td>42.3</td>\n      <td>58-122</td>\n      <td>0.475</td>\n      <td>11-34</td>\n      <td>0.324</td>\n    </tr>\n    <tr>\n      <th>3</th>\n      <th>Jr</th>\n      <th>6-5</th>\n      <th>A.J. Oliver II</th>\n      <td>Old Dominion</td>\n      <td>CUSA</td>\n      <td>66.9</td>\n      <td>2.5</td>\n      <td>8.9</td>\n      <td>7.3</td>\n      <td>0.8</td>\n      <td>1.1</td>\n      <td>19.2</td>\n      <td>36-65</td>\n      <td>0.554</td>\n      <td>32-102</td>\n      <td>0.314</td>\n    </tr>\n    <tr>\n      <th>4</th>\n      <th>So</th>\n      <th>6-2</th>\n      <th>A.J. Plitzuweit</th>\n      <td>South Dakota</td>\n      <td>Sum</td>\n      <td>75.6</td>\n      <td>2.4</td>\n      <td>11.6</td>\n      <td>23.4</td>\n      <td>0.3</td>\n      <td>1.5</td>\n      <td>38.3</td>\n      <td>76-165</td>\n      <td>0.461</td>\n      <td>52-117</td>\n      <td>0.444</td>\n    </tr>\n    <tr>\n      <th>5</th>\n      <th>Jr</th>\n      <th>6-6</th>\n      <th>A.J. Reeves</th>\n      <td>Providence</td>\n      <td>BE</td>\n      <td>77.2</td>\n      <td>2.3</td>\n      <td>10.6</td>\n      <td>10.3</td>\n      <td>0.3</td>\n      <td>1.9</td>\n      <td>23.2</td>\n      <td>31-74</td>\n      <td>0.419</td>\n      <td>48-150</td>\n      <td>0.320</td>\n    </tr>\n  </tbody>\n</table>\n</div>"
     },
     "metadata": {},
     "execution_count": 5
    }
   ],
   "source": [
    "# Moving onto the 2021 season data, we read in our player data from the csv \n",
    "stats2021_df = pd.read_csv('2021season.csv', '\\t')\n",
    "stats2021_df.head()"
   ]
  },
  {
   "source": [
    "To clean us this `DataFrame`, I am going to follow almost exactly the same steps as I did in step a. The columns will be the exact same, except there won't be a 'pick' column."
   ],
   "cell_type": "markdown",
   "metadata": {}
  },
  {
   "cell_type": "code",
   "execution_count": 6,
   "metadata": {},
   "outputs": [
    {
     "output_type": "execute_result",
     "data": {
      "text/plain": [
       "  class           player minutes_per off_reb_per def_reb_per assist_per  \\\n",
       "0    Jr      Aaron Henry        80.9         4.8        14.6       25.2   \n",
       "1    Jr    Aaron Wiggins        83.3         4.5        15.9       17.2   \n",
       "2    Jr     Alan Griffin        72.8         6.3        15.2       12.2   \n",
       "3    Sr  Alfonso Plummer        69.8         1.3         7.9        7.5   \n",
       "4    So    Armando Bacot        56.6        14.5        22.3        7.3   \n",
       "\n",
       "  block_per steal_per free_throw_per two_point_per three_point_per  \n",
       "0       4.1       2.4           28.9         0.493           0.296  \n",
       "1       2.0       2.1           20.3         0.515           0.346  \n",
       "2       6.6       2.3           19.0         0.514           0.354  \n",
       "3       0.2       1.5           12.1         0.526           0.383  \n",
       "4       4.3       1.6           58.3         0.631             0.0  "
      ],
      "text/html": "<div>\n<style scoped>\n    .dataframe tbody tr th:only-of-type {\n        vertical-align: middle;\n    }\n\n    .dataframe tbody tr th {\n        vertical-align: top;\n    }\n\n    .dataframe thead th {\n        text-align: right;\n    }\n</style>\n<table border=\"1\" class=\"dataframe\">\n  <thead>\n    <tr style=\"text-align: right;\">\n      <th></th>\n      <th>class</th>\n      <th>player</th>\n      <th>minutes_per</th>\n      <th>off_reb_per</th>\n      <th>def_reb_per</th>\n      <th>assist_per</th>\n      <th>block_per</th>\n      <th>steal_per</th>\n      <th>free_throw_per</th>\n      <th>two_point_per</th>\n      <th>three_point_per</th>\n    </tr>\n  </thead>\n  <tbody>\n    <tr>\n      <th>0</th>\n      <td>Jr</td>\n      <td>Aaron Henry</td>\n      <td>80.9</td>\n      <td>4.8</td>\n      <td>14.6</td>\n      <td>25.2</td>\n      <td>4.1</td>\n      <td>2.4</td>\n      <td>28.9</td>\n      <td>0.493</td>\n      <td>0.296</td>\n    </tr>\n    <tr>\n      <th>1</th>\n      <td>Jr</td>\n      <td>Aaron Wiggins</td>\n      <td>83.3</td>\n      <td>4.5</td>\n      <td>15.9</td>\n      <td>17.2</td>\n      <td>2.0</td>\n      <td>2.1</td>\n      <td>20.3</td>\n      <td>0.515</td>\n      <td>0.346</td>\n    </tr>\n    <tr>\n      <th>2</th>\n      <td>Jr</td>\n      <td>Alan Griffin</td>\n      <td>72.8</td>\n      <td>6.3</td>\n      <td>15.2</td>\n      <td>12.2</td>\n      <td>6.6</td>\n      <td>2.3</td>\n      <td>19.0</td>\n      <td>0.514</td>\n      <td>0.354</td>\n    </tr>\n    <tr>\n      <th>3</th>\n      <td>Sr</td>\n      <td>Alfonso Plummer</td>\n      <td>69.8</td>\n      <td>1.3</td>\n      <td>7.9</td>\n      <td>7.5</td>\n      <td>0.2</td>\n      <td>1.5</td>\n      <td>12.1</td>\n      <td>0.526</td>\n      <td>0.383</td>\n    </tr>\n    <tr>\n      <th>4</th>\n      <td>So</td>\n      <td>Armando Bacot</td>\n      <td>56.6</td>\n      <td>14.5</td>\n      <td>22.3</td>\n      <td>7.3</td>\n      <td>4.3</td>\n      <td>1.6</td>\n      <td>58.3</td>\n      <td>0.631</td>\n      <td>0.0</td>\n    </tr>\n  </tbody>\n</table>\n</div>"
     },
     "metadata": {},
     "execution_count": 6
    }
   ],
   "source": [
    "# Create a 2d array that has 11 arrays for our 11 categories\n",
    "data = [[], [], [], [], [], [], [], [], [], [], []]\n",
    "for i, r in stats2021_df.iterrows():\n",
    "    data[0].append(i[1])\n",
    "    data[1].append(i[3])\n",
    "    data[2].append(r['TEAM'])\n",
    "    data[3].append(r['CONF'])\n",
    "    data[4].append(r['MIN%'])\n",
    "    data[5].append(r['OR'])\n",
    "    data[6].append(r['DR'])\n",
    "    data[7].append(r['AST'])\n",
    "    data[8].append(r['BLK'])\n",
    "    data[9].append(r['FTR'])\n",
    "    data[10].append(r['3P'])\n",
    "\n",
    "# pandas reads in row wise, so I use T to take the transpose\n",
    "temp = pd.DataFrame(np.array(data).T, columns=headers[1:])\n",
    "\n",
    "# Cross reference to get players who have declared for the draft\n",
    "temp = temp.where(temp['player'].isin(earlycomm_df['Player']))\n",
    "stats2021_df = temp.dropna(how='all').reset_index(drop=True)\n",
    "\n",
    "# push to csv for later\n",
    "stats2021_df.to_csv('cleaned2021.csv')\n",
    "\n",
    "stats2021_df.head()"
   ]
  },
  {
   "source": [
    "## Part 2\n",
    "\n",
    "Now that all the data has been collected, the data analysis can begin. The goal is to look for trends between high draft picks and player's stats. "
   ],
   "cell_type": "markdown",
   "metadata": {}
  },
  {
   "cell_type": "code",
   "execution_count": null,
   "metadata": {},
   "outputs": [],
   "source": []
  },
  {
   "cell_type": "code",
   "execution_count": null,
   "metadata": {},
   "outputs": [],
   "source": []
  },
  {
   "cell_type": "code",
   "execution_count": null,
   "metadata": {},
   "outputs": [],
   "source": []
  },
  {
   "source": [
    "## Part 3\n",
    "\n",
    "Next we can try to train a model to predict the 2021 NBA draft. We have shown what parameters seem to be the most important, so we can train the model to look at those.......\n"
   ],
   "cell_type": "markdown",
   "metadata": {}
  },
  {
   "cell_type": "code",
   "execution_count": null,
   "metadata": {},
   "outputs": [],
   "source": []
  },
  {
   "cell_type": "code",
   "execution_count": null,
   "metadata": {},
   "outputs": [],
   "source": []
  },
  {
   "cell_type": "code",
   "execution_count": null,
   "metadata": {},
   "outputs": [],
   "source": []
  },
  {
   "cell_type": "code",
   "execution_count": null,
   "metadata": {},
   "outputs": [],
   "source": []
  }
 ],
 "metadata": {
  "kernelspec": {
   "display_name": "Python 3",
   "language": "python",
   "name": "python3"
  },
  "language_info": {
   "codemirror_mode": {
    "name": "ipython",
    "version": 3
   },
   "file_extension": ".py",
   "mimetype": "text/x-python",
   "name": "python",
   "nbconvert_exporter": "python",
   "pygments_lexer": "ipython3",
   "version": "3.8.5"
  },
  "metadata": {
   "interpreter": {
    "hash": "916dbcbb3f70747c44a77c7bcd40155683ae19c65e1c03b4aa3499c5328201f1"
   }
  }
 },
 "nbformat": 4,
 "nbformat_minor": 2
}